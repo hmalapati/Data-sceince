{
 "cells": [
  {
   "cell_type": "code",
   "execution_count": 1,
   "metadata": {},
   "outputs": [
    {
     "data": {
      "text/plain": [
       "'You can return a range of characters by using the slice syntax.\\n\\nSpecify the start index and the end index, separated by a colon, to return a part of the string.'"
      ]
     },
     "execution_count": 1,
     "metadata": {},
     "output_type": "execute_result"
    }
   ],
   "source": [
    "# Slicing\n",
    "'''You can return a range of characters by using the slice syntax.\n",
    "\n",
    "Specify the start index and the end index, separated by a colon, to return a part of the string.'''"
   ]
  },
  {
   "cell_type": "code",
   "execution_count": 2,
   "metadata": {},
   "outputs": [
    {
     "name": "stdout",
     "output_type": "stream",
     "text": [
      "e c\n"
     ]
    }
   ],
   "source": [
    "b = \"The city rank by population as of December 31, 2015, as estimated by the Federal Statistical Office of Germany\"\n",
    "print(b[2:5])"
   ]
  },
  {
   "cell_type": "code",
   "execution_count": 3,
   "metadata": {},
   "outputs": [
    {
     "name": "stdout",
     "output_type": "stream",
     "text": [
      "ulation \n"
     ]
    }
   ],
   "source": [
    "b = \"The city rank by population as of December 31, 2015, as estimated by the Federal Statistical Office of Germany\"\n",
    "print(b[20:28])"
   ]
  },
  {
   "cell_type": "code",
   "execution_count": 4,
   "metadata": {},
   "outputs": [
    {
     "name": "stdout",
     "output_type": "stream",
     "text": [
      "orl\n"
     ]
    }
   ],
   "source": [
    "b = \"Hello, World!\"\n",
    "print(b[-5:-2])"
   ]
  },
  {
   "cell_type": "code",
   "execution_count": 5,
   "metadata": {},
   "outputs": [],
   "source": [
    "#Python - Modify Strings"
   ]
  },
  {
   "cell_type": "code",
   "execution_count": 8,
   "metadata": {},
   "outputs": [],
   "source": [
    "#The upper() method returns the string in upper case:\n"
   ]
  },
  {
   "cell_type": "code",
   "execution_count": 9,
   "metadata": {},
   "outputs": [
    {
     "name": "stdout",
     "output_type": "stream",
     "text": [
      "THE CITY RANK BY POPULATION AS OF DECEMBER 31, 2015, AS ESTIMATED BY THE FEDERAL STATISTICAL OFFICE OF GERMANY\n"
     ]
    }
   ],
   "source": [
    "a = \"The city rank by population as of December 31, 2015, as estimated by the Federal Statistical Office of Germany\"\n",
    "print(a.upper())"
   ]
  },
  {
   "cell_type": "code",
   "execution_count": 13,
   "metadata": {},
   "outputs": [],
   "source": [
    "#The lower() method returns the string in lower case:\n"
   ]
  },
  {
   "cell_type": "code",
   "execution_count": 14,
   "metadata": {},
   "outputs": [
    {
     "name": "stdout",
     "output_type": "stream",
     "text": [
      "i am a bad boy and i do many things under pressure\n"
     ]
    }
   ],
   "source": [
    "ram = \"I am a bad boy and I do many Things under pressure\"\n",
    "print(ram.lower())"
   ]
  },
  {
   "cell_type": "code",
   "execution_count": 15,
   "metadata": {},
   "outputs": [],
   "source": [
    "#Remove Whitespace"
   ]
  },
  {
   "cell_type": "code",
   "execution_count": 18,
   "metadata": {},
   "outputs": [
    {
     "data": {
      "text/plain": [
       "'Whitespace is the space before and/or after the actual text, and very often you want to remove this space.\\n\\nExample\\nThe strip() method removes any whitespace from the beginning or the end'"
      ]
     },
     "execution_count": 18,
     "metadata": {},
     "output_type": "execute_result"
    }
   ],
   "source": [
    "'''Whitespace is the space before and/or after the actual text, and very often you want to remove this space.\n",
    "\n",
    "Example\n",
    "The strip() method removes any whitespace from the beginning or the end'''"
   ]
  },
  {
   "cell_type": "code",
   "execution_count": 21,
   "metadata": {},
   "outputs": [
    {
     "name": "stdout",
     "output_type": "stream",
     "text": [
      "Hello, World! this is me\n"
     ]
    }
   ],
   "source": [
    "ram = \" Hello, World! this is me \"\n",
    "print(ram.strip()) # returns \"Hello, World!\""
   ]
  },
  {
   "cell_type": "code",
   "execution_count": 23,
   "metadata": {},
   "outputs": [
    {
     "name": "stdout",
     "output_type": "stream",
     "text": [
      "he is bad for a while\n"
     ]
    }
   ],
   "source": [
    "#The replace() method replaces a string with another string:\n",
    "\n",
    "ram = \"he is good for a while\"\n",
    "print(ram.replace(\"goo\", \"ba\"))"
   ]
  },
  {
   "cell_type": "code",
   "execution_count": 30,
   "metadata": {},
   "outputs": [
    {
     "name": "stdout",
     "output_type": "stream",
     "text": [
      "['he', ' great']\n"
     ]
    }
   ],
   "source": [
    "#The split() method splits the string into substrings if it finds instances of the separator:\n",
    "\n",
    "hello = \"he, great\"\n",
    "print(hello.split(\",\"))"
   ]
  },
  {
   "cell_type": "code",
   "execution_count": 32,
   "metadata": {},
   "outputs": [
    {
     "name": "stdout",
     "output_type": "stream",
     "text": [
      "he is the best in studiesand also he is best for games too\n"
     ]
    }
   ],
   "source": [
    "#String Concatenation:\n",
    "\n",
    "a = \"he is the best in studies\"\n",
    "b = \"and also he is best for games too\"\n",
    "c = a+b\n",
    "print(c)"
   ]
  },
  {
   "cell_type": "code",
   "execution_count": 35,
   "metadata": {},
   "outputs": [
    {
     "name": "stdout",
     "output_type": "stream",
     "text": [
      "he is the best in studiesand also he is best for games too\n"
     ]
    }
   ],
   "source": [
    "#To add a space between them, add a \" \":\n",
    "\n",
    "a = \"he is the best in studies\"\n",
    "b = \"and also he is best for games too\"\n",
    "c = a+\"\"+b\n",
    "print(c)"
   ]
  },
  {
   "cell_type": "code",
   "execution_count": 37,
   "metadata": {},
   "outputs": [
    {
     "ename": "TypeError",
     "evalue": "can only concatenate str (not \"int\") to str",
     "output_type": "error",
     "traceback": [
      "\u001b[1;31m---------------------------------------------------------------------------\u001b[0m",
      "\u001b[1;31mTypeError\u001b[0m                                 Traceback (most recent call last)",
      "\u001b[1;32m<ipython-input-37-1ff77e10b2d6>\u001b[0m in \u001b[0;36m<module>\u001b[1;34m\u001b[0m\n\u001b[0;32m      3\u001b[0m \u001b[1;33m\u001b[0m\u001b[0m\n\u001b[0;32m      4\u001b[0m \u001b[0mage\u001b[0m \u001b[1;33m=\u001b[0m \u001b[1;36m30\u001b[0m\u001b[1;33m\u001b[0m\u001b[1;33m\u001b[0m\u001b[0m\n\u001b[1;32m----> 5\u001b[1;33m \u001b[0mgabba\u001b[0m \u001b[1;33m=\u001b[0m \u001b[1;34m\"My name is John, I am \"\u001b[0m \u001b[1;33m+\u001b[0m \u001b[0mage\u001b[0m\u001b[1;33m\u001b[0m\u001b[1;33m\u001b[0m\u001b[0m\n\u001b[0m\u001b[0;32m      6\u001b[0m \u001b[0mprint\u001b[0m\u001b[1;33m(\u001b[0m\u001b[0mgabba\u001b[0m\u001b[1;33m)\u001b[0m\u001b[1;33m\u001b[0m\u001b[1;33m\u001b[0m\u001b[0m\n",
      "\u001b[1;31mTypeError\u001b[0m: can only concatenate str (not \"int\") to str"
     ]
    }
   ],
   "source": [
    "#String Format:\n",
    "#As we learned in the Python Variables chapter, we cannot combine strings and numbers like this:\n",
    "\n",
    "age = 30\n",
    "gabba = \"My name is John, I am \" + age\n",
    "print(gabba)"
   ]
  },
  {
   "cell_type": "code",
   "execution_count": 39,
   "metadata": {},
   "outputs": [],
   "source": [
    "#But we can combine strings and numbers by using the format() method!\n",
    "\n",
    "#The format() method takes the passed arguments, formats them, and places them in the string where the placeholders {} are:"
   ]
  },
  {
   "cell_type": "code",
   "execution_count": 42,
   "metadata": {},
   "outputs": [
    {
     "name": "stdout",
     "output_type": "stream",
     "text": [
      "my name is ramu 30\n"
     ]
    }
   ],
   "source": [
    "age = 30\n",
    "gabba = \"my name is ramu {}\"\n",
    "print(gabba.format(age))"
   ]
  },
  {
   "cell_type": "code",
   "execution_count": 44,
   "metadata": {},
   "outputs": [
    {
     "name": "stdout",
     "output_type": "stream",
     "text": [
      "my name is hanook, my age 30, my village g v varam, and my height 7.5\n"
     ]
    }
   ],
   "source": [
    "#The format() method takes unlimited number of arguments, and are placed into the respective placeholders:\n",
    "\n",
    "age = 30\n",
    "village = \"g v varam\"\n",
    "height = 7.5\n",
    "gabba = \"my name is hanook, my age {}, my village {}, and my height {}\"\n",
    "print(gabba.format((age), (village), (height)))"
   ]
  },
  {
   "cell_type": "code",
   "execution_count": 46,
   "metadata": {},
   "outputs": [
    {
     "name": "stdout",
     "output_type": "stream",
     "text": [
      "I want to pay 49.95 dollars for 10 pieces of item 1100.\n"
     ]
    }
   ],
   "source": [
    "#You can use index numbers {0} to be sure the arguments are placed in the correct placeholders:\n",
    "\n",
    "quantity = 10\n",
    "itemno = 1100\n",
    "price = 49.95\n",
    "myorder = \"I want to pay {2} dollars for {0} pieces of item {1}.\"\n",
    "print(myorder.format(quantity, itemno, price)) \n"
   ]
  },
  {
   "cell_type": "code",
   "execution_count": 47,
   "metadata": {},
   "outputs": [
    {
     "data": {
      "text/plain": [
       "'To insert characters that are illegal in a string, use an escape character.\\n\\nAn escape character is a backslash \\\\ followed by the character you want to insert.\\n\\nAn example of an illegal character is a double quote inside a string that is surrounded by double quotes:'"
      ]
     },
     "execution_count": 47,
     "metadata": {},
     "output_type": "execute_result"
    }
   ],
   "source": [
    "#Escape Character\n",
    "'''To insert characters that are illegal in a string, use an escape character.\n",
    "\n",
    "An escape character is a backslash \\ followed by the character you want to insert.\n",
    "\n",
    "An example of an illegal character is a double quote inside a string that is surrounded by double quotes:'''"
   ]
  },
  {
   "cell_type": "code",
   "execution_count": 49,
   "metadata": {},
   "outputs": [
    {
     "ename": "SyntaxError",
     "evalue": "invalid syntax (<ipython-input-49-eeeedbba8b52>, line 1)",
     "output_type": "error",
     "traceback": [
      "\u001b[1;36m  File \u001b[1;32m\"<ipython-input-49-eeeedbba8b52>\"\u001b[1;36m, line \u001b[1;32m1\u001b[0m\n\u001b[1;33m    a = \"my name is ravi, studying inter in \"SADHANA\" junior college in markapuram\"\u001b[0m\n\u001b[1;37m                                             ^\u001b[0m\n\u001b[1;31mSyntaxError\u001b[0m\u001b[1;31m:\u001b[0m invalid syntax\n"
     ]
    }
   ],
   "source": [
    "a = \"my name is ravi, studying inter in \"SADHANA\" junior college in markapuram\"\n",
    "print(a)"
   ]
  },
  {
   "cell_type": "code",
   "execution_count": 52,
   "metadata": {},
   "outputs": [
    {
     "name": "stdout",
     "output_type": "stream",
     "text": [
      "my name is ravi, studying inter in \"SADHANA\" junior college in markapuram\n"
     ]
    }
   ],
   "source": [
    "#To fix this problem, use the escape character \\\":\n",
    "\n",
    "a = \"my name is ravi, studying inter in \\\"SADHANA\\\" junior college in markapuram\"\n",
    "print(a)"
   ]
  },
  {
   "cell_type": "code",
   "execution_count": 53,
   "metadata": {},
   "outputs": [
    {
     "ename": "SyntaxError",
     "evalue": "(unicode error) 'unicodeescape' codec can't decode bytes in position 133-134: truncated \\xXX escape (<ipython-input-53-5e774c63fb22>, line 1)",
     "output_type": "error",
     "traceback": [
      "\u001b[1;36m  File \u001b[1;32m\"<ipython-input-53-5e774c63fb22>\"\u001b[1;36m, line \u001b[1;32m1\u001b[0m\n\u001b[1;33m    '''\u001b[0m\n\u001b[1;37m    ^\u001b[0m\n\u001b[1;31mSyntaxError\u001b[0m\u001b[1;31m:\u001b[0m (unicode error) 'unicodeescape' codec can't decode bytes in position 133-134: truncated \\xXX escape\n"
     ]
    }
   ],
   "source": [
    "#Escape Characters\n",
    "\n",
    "'''\n",
    "\\'    Single Quote\n",
    "\\\\    Backslash\n",
    "\\n    New Line\n",
    "\\r    Carriage Return\n",
    "\\t    Tab\n",
    "\\b    Backspace\n",
    "\\f    Form Feed\n",
    "\\ooo  Octal value\n",
    "\\xhh  Hex value'''"
   ]
  },
  {
   "cell_type": "code",
   "execution_count": 56,
   "metadata": {},
   "outputs": [
    {
     "name": "stdout",
     "output_type": "stream",
     "text": [
      "ramu is a good boy and he's charecter is very good'\n"
     ]
    }
   ],
   "source": [
    "a = \"ramu is a good boy and he\\'s charecter is very good'\"\n",
    "print(a)"
   ]
  },
  {
   "cell_type": "code",
   "execution_count": 58,
   "metadata": {},
   "outputs": [
    {
     "name": "stdout",
     "output_type": "stream",
     "text": [
      "he is bad\n",
      " he is some times very good\n"
     ]
    }
   ],
   "source": [
    "a = \"he is bad\\n he is some times very good\"\n",
    "print(a)"
   ]
  },
  {
   "cell_type": "code",
   "execution_count": 60,
   "metadata": {},
   "outputs": [
    {
     "name": "stdout",
     "output_type": "stream",
     "text": [
      "i am a bad boy\t and i am too good for good boys\n"
     ]
    }
   ],
   "source": [
    "a =\"i am a bad boy\\t and i am too good for good boys\"\n",
    "print(a)"
   ]
  },
  {
   "cell_type": "code",
   "execution_count": 62,
   "metadata": {},
   "outputs": [
    {
     "name": "stdout",
     "output_type": "stream",
     "text": [
      "he is nice\bpersone\n"
     ]
    }
   ],
   "source": [
    "ramu = \"he is nice\\bpersone\"\n",
    "print(ramu)"
   ]
  },
  {
   "cell_type": "code",
   "execution_count": 63,
   "metadata": {},
   "outputs": [],
   "source": [
    "#Python - String Methods:"
   ]
  },
  {
   "cell_type": "code",
   "execution_count": 66,
   "metadata": {},
   "outputs": [
    {
     "name": "stdout",
     "output_type": "stream",
     "text": [
      "He is from india\n"
     ]
    }
   ],
   "source": [
    "#capitalize() : Converts the first character to upper case\n",
    "\n",
    "ramu = \"he is from india\"\n",
    "print(ramu.capitalize())"
   ]
  },
  {
   "cell_type": "code",
   "execution_count": 69,
   "metadata": {},
   "outputs": [
    {
     "name": "stdout",
     "output_type": "stream",
     "text": [
      "he is from india\n"
     ]
    }
   ],
   "source": [
    "#casefold(): Converts string into lower case\n",
    "\n",
    "ramu = \"He is from india\"\n",
    "print(ramu.casefold())"
   ]
  },
  {
   "cell_type": "code",
   "execution_count": 75,
   "metadata": {},
   "outputs": [
    {
     "name": "stdout",
     "output_type": "stream",
     "text": [
      "5\n"
     ]
    }
   ],
   "source": [
    "#count() :Returns the number of times a specified value occurs in a string\n",
    "\n",
    "bell = \"he is form our state and he is a good at all the time\"\n",
    "print(bell.count(\"a\"))"
   ]
  },
  {
   "cell_type": "code",
   "execution_count": 79,
   "metadata": {},
   "outputs": [
    {
     "name": "stdout",
     "output_type": "stream",
     "text": [
      "b'he llo bha mardhi how a re y ou do ing'\n"
     ]
    }
   ],
   "source": [
    "# encode() Returns an encoded version of the string\n",
    "\n",
    "gabba = \"he llo bha mardhi how a re y ou do ing\"\n",
    "print(gabba.encode())"
   ]
  },
  {
   "cell_type": "code",
   "execution_count": 80,
   "metadata": {},
   "outputs": [
    {
     "ename": "SyntaxError",
     "evalue": "invalid syntax (<ipython-input-80-737b0b5052d2>, line 1)",
     "output_type": "error",
     "traceback": [
      "\u001b[1;36m  File \u001b[1;32m\"<ipython-input-80-737b0b5052d2>\"\u001b[1;36m, line \u001b[1;32m1\u001b[0m\n\u001b[1;33m    capitalize() :Converts the first character to upper case\u001b[0m\n\u001b[1;37m                           ^\u001b[0m\n\u001b[1;31mSyntaxError\u001b[0m\u001b[1;31m:\u001b[0m invalid syntax\n"
     ]
    }
   ],
   "source": [
    "#String Methods : Python has a set of built-in methods that you can use on strings.\n",
    "\n",
    "capitalize()  :Converts the first character to upper case\n",
    "casefold()    :Converts string into lower case\n",
    "center()      :Returns a centered string\n",
    "count()       :Returns the number of times a specified value occurs in a string\n",
    "encode()      :Returns an encoded version of the string\n",
    "endswith()    :Returns true if the string ends with the specified value\n",
    "expandtabs()  :Sets the tab size of the string\n",
    "find()        :Searches the string for a specified value and returns the position of where it was found\n",
    "format()      :Formats specified values in a string\n",
    "format_map()  :Formats specified values in a string\n",
    "index()       :Searches the string for a specified value and returns the position of where it was found\n",
    "isalnum()     :Returns True if all characters in the string are alphanumeric\n",
    "isalpha()     :Returns True if all characters in the string are in the alphabet\n",
    "isdecimal()   :Returns True if all characters in the string are decimals\n",
    "isdigit()     :Returns True if all characters in the string are digits\n",
    "isidentifier():Returns True if the string is an identifier\n",
    "islower()     :Returns True if all characters in the string are lower case\n",
    "isnumeric()   :Returns True if all characters in the string are numeric\n",
    "isprintable() :Returns True if all characters in the string are printable\n",
    "isspace()     :Returns True if all characters in the string are whitespaces\n",
    "istitle()     :Returns True if the string follows the rules of a title\n",
    "isupper()     :Returns True if all characters in the string are upper case\n",
    "join()        :Joins the elements of an iterable to the end of the string\n",
    "ljust()       :Returns a left justified version of the string\n",
    "lower()       :Converts a string into lower case\n",
    "lstrip()      :Returns a left trim version of the string\n",
    "maketrans()   :Returns a translation table to be used in translations\n",
    "partition()   :Returns a tuple where the string is parted into three parts\n",
    "replace()     :Returns a string where a specified value is replaced with a specified value\n",
    "rfind()       :Searches the string for a specified value and returns the last position of where it was found\n",
    "rindex()      :Searches the string for a specified value and returns the last position of where it was found\n",
    "rjust()       :Returns a right justified version of the string\n",
    "rpartition()  :Returns a tuple where the string is parted into three parts\n",
    "rsplit()      :Splits the string at the specified separator, and returns a list\n",
    "rstrip()      :Returns a right trim version of the string\n",
    "split()       :Splits the string at the specified separator, and returns a list\n",
    "splitlines()  :Splits the string at line breaks and returns a list\n",
    "startswith()  :Returns true if the string starts with the specified value\n",
    "strip()       :Returns a trimmed version of the string\n",
    "swapcase()    :Swaps cases, lower case becomes upper case and vice versa\n",
    "title()       :Converts the first character of each word to upper case\n",
    "translate()   :Returns a translated string\n",
    "upper()       :Converts a string into upper case\n",
    "zfill()       :Fills the string with a specified number of 0 values at the beginning"
   ]
  }
 ],
 "metadata": {
  "kernelspec": {
   "display_name": "Python 3",
   "language": "python",
   "name": "python3"
  },
  "language_info": {
   "codemirror_mode": {
    "name": "ipython",
    "version": 3
   },
   "file_extension": ".py",
   "mimetype": "text/x-python",
   "name": "python",
   "nbconvert_exporter": "python",
   "pygments_lexer": "ipython3",
   "version": "3.8.3"
  }
 },
 "nbformat": 4,
 "nbformat_minor": 4
}
