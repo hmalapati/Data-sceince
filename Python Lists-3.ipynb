{
 "cells": [
  {
   "cell_type": "code",
   "execution_count": 1,
   "metadata": {},
   "outputs": [
    {
     "name": "stdout",
     "output_type": "stream",
     "text": [
      "banana\n"
     ]
    }
   ],
   "source": [
    "thislist = [\"apple\", \"banana\", \"cherry\", \"kivi\", 'orenge']\n",
    "print(thislist[1])\n"
   ]
  },
  {
   "cell_type": "code",
   "execution_count": 2,
   "metadata": {},
   "outputs": [
    {
     "name": "stdout",
     "output_type": "stream",
     "text": [
      "kivi\n"
     ]
    }
   ],
   "source": [
    "print(thislist[3])"
   ]
  },
  {
   "cell_type": "code",
   "execution_count": 3,
   "metadata": {},
   "outputs": [
    {
     "name": "stdout",
     "output_type": "stream",
     "text": [
      "['apple', 'banana', 'papayya', 'kivi', 'orenge']\n"
     ]
    }
   ],
   "source": [
    "thislist[2] = 'papayya'\n",
    "print(thislist)"
   ]
  },
  {
   "cell_type": "code",
   "execution_count": 5,
   "metadata": {},
   "outputs": [
    {
     "name": "stdout",
     "output_type": "stream",
     "text": [
      "['apple', 'banana', 'rekha', 'ram', 'orenge']\n"
     ]
    }
   ],
   "source": [
    "thislist[2:4]= ['rekha', 'ram']\n",
    "print(thislist)"
   ]
  },
  {
   "cell_type": "code",
   "execution_count": 6,
   "metadata": {},
   "outputs": [
    {
     "name": "stdout",
     "output_type": "stream",
     "text": [
      "['apple', 'banana', 'rekha', 'ramanji']\n"
     ]
    }
   ],
   "source": [
    "thislist[3:5]=['ramanji']\n",
    "print(thislist)"
   ]
  },
  {
   "cell_type": "code",
   "execution_count": 8,
   "metadata": {},
   "outputs": [
    {
     "name": "stdout",
     "output_type": "stream",
     "text": [
      "['amma', 'apple', 'banana', 'rekha', 'ramanji']\n"
     ]
    }
   ],
   "source": [
    "thislist.insert(0,'amma')\n",
    "print(thislist)"
   ]
  },
  {
   "cell_type": "code",
   "execution_count": 9,
   "metadata": {},
   "outputs": [
    {
     "name": "stdout",
     "output_type": "stream",
     "text": [
      "['amma', 'apple', 'banana', 'rekha', 'ramanji', 'akka']\n"
     ]
    }
   ],
   "source": [
    "thislist.insert(5,'akka')\n",
    "print(thislist)"
   ]
  },
  {
   "cell_type": "code",
   "execution_count": 10,
   "metadata": {},
   "outputs": [
    {
     "name": "stdout",
     "output_type": "stream",
     "text": [
      "['amma', 'apple', 'banana', 'rekha', 'ramanji', 'akka', 'akka']\n"
     ]
    }
   ],
   "source": [
    "thislist.insert(6,'akka')\n",
    "print(thislist)"
   ]
  },
  {
   "cell_type": "code",
   "execution_count": 13,
   "metadata": {},
   "outputs": [
    {
     "name": "stdout",
     "output_type": "stream",
     "text": [
      "amma\n",
      "apple\n",
      "banana\n",
      "rekha\n",
      "ramanji\n",
      "akka\n",
      "akka\n"
     ]
    }
   ],
   "source": [
    "for x in thislist:\n",
    " print(x)"
   ]
  },
  {
   "cell_type": "code",
   "execution_count": 14,
   "metadata": {},
   "outputs": [
    {
     "name": "stdout",
     "output_type": "stream",
     "text": [
      "amma\n",
      "apple\n",
      "banana\n",
      "rekha\n",
      "ramanji\n",
      "akka\n",
      "akka\n"
     ]
    }
   ],
   "source": [
    "for y in thislist:\n",
    "    print(y)"
   ]
  },
  {
   "cell_type": "code",
   "execution_count": 17,
   "metadata": {},
   "outputs": [
    {
     "name": "stdout",
     "output_type": "stream",
     "text": [
      "[0]\n",
      "[1]\n",
      "[2]\n",
      "[3]\n",
      "[4]\n",
      "[5]\n",
      "[6]\n"
     ]
    }
   ],
   "source": [
    "for i in range(len(thislist)):\n",
    " print([i])"
   ]
  },
  {
   "cell_type": "code",
   "execution_count": null,
   "metadata": {},
   "outputs": [],
   "source": [
    "for x in thislist:"
   ]
  }
 ],
 "metadata": {
  "kernelspec": {
   "display_name": "Python 3",
   "language": "python",
   "name": "python3"
  },
  "language_info": {
   "codemirror_mode": {
    "name": "ipython",
    "version": 3
   },
   "file_extension": ".py",
   "mimetype": "text/x-python",
   "name": "python",
   "nbconvert_exporter": "python",
   "pygments_lexer": "ipython3",
   "version": "3.8.3"
  }
 },
 "nbformat": 4,
 "nbformat_minor": 4
}
