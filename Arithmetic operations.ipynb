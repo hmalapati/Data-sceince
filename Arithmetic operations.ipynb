{
 "cells": [
  {
   "cell_type": "code",
   "execution_count": 5,
   "metadata": {},
   "outputs": [],
   "source": [
    "#Arithmetic Operators"
   ]
  },
  {
   "cell_type": "code",
   "execution_count": 11,
   "metadata": {},
   "outputs": [
    {
     "data": {
      "text/plain": [
       "'Addition: +\\nSubtraction: -\\nMultiplication: *\\nDivision: /\\nFloor division: //\\nRemainder: %\\nExponent: **'"
      ]
     },
     "execution_count": 11,
     "metadata": {},
     "output_type": "execute_result"
    }
   ],
   "source": [
    "'''Addition: +\n",
    "Subtraction: -\n",
    "Multiplication: *\n",
    "Division: /\n",
    "Floor division: //\n",
    "Remainder: %\n",
    "Exponent: **'''"
   ]
  },
  {
   "cell_type": "code",
   "execution_count": 13,
   "metadata": {},
   "outputs": [
    {
     "name": "stdout",
     "output_type": "stream",
     "text": [
      "15\n"
     ]
    }
   ],
   "source": [
    "a = 5\n",
    "b = 10\n",
    "sum = a+b\n",
    "print(sum)"
   ]
  },
  {
   "cell_type": "code",
   "execution_count": 15,
   "metadata": {},
   "outputs": [
    {
     "name": "stdout",
     "output_type": "stream",
     "text": [
      "15\n"
     ]
    }
   ],
   "source": [
    "print(a+b)"
   ]
  },
  {
   "cell_type": "code",
   "execution_count": 18,
   "metadata": {},
   "outputs": [
    {
     "data": {
      "text/plain": [
       "\"Suppose you are a university student, and you need to pay 4000 euros tuition fee for the next semester.\\n\\nThe college is giving you a discount of 20% on the early payment of your tuition fee. Since it's a good offer, \\nyou decided to make an early payment. Can you find out how much money you have to pay?\""
      ]
     },
     "execution_count": 18,
     "metadata": {},
     "output_type": "execute_result"
    }
   ],
   "source": [
    "'''Suppose you are a university student, and you need to pay 4000 euros tuition fee for the next semester.\n",
    "\n",
    "The college is giving you a discount of 20% on the early payment of your tuition fee. Since it's a good offer, \n",
    "you decided to make an early payment. Can you find out how much money you have to pay?'''"
   ]
  },
  {
   "cell_type": "code",
   "execution_count": 20,
   "metadata": {},
   "outputs": [
    {
     "name": "stdout",
     "output_type": "stream",
     "text": [
      "discount_amount: 3200.0\n"
     ]
    }
   ],
   "source": [
    "fee = 4000\n",
    "discount_percentage = 20\n",
    "discounr_amount = discount_percentage/100*fee\n",
    "discount_fee = fee-discounr_amount\n",
    "print(\"discount_amount:\",discount_fee)\n"
   ]
  },
  {
   "cell_type": "code",
   "execution_count": 24,
   "metadata": {},
   "outputs": [
    {
     "name": "stdout",
     "output_type": "stream",
     "text": [
      "310.8097742\n"
     ]
    }
   ],
   "source": [
    "#creating a program to convert distance in kilometers to miles:\n",
    "\n",
    "distance_km = 500.20\n",
    "converstion_ratio = 0.621371\n",
    "distance_miles = distance_km*converstion_ratio\n",
    "print(distance_miles)\n"
   ]
  }
 ],
 "metadata": {
  "kernelspec": {
   "display_name": "Python 3",
   "language": "python",
   "name": "python3"
  },
  "language_info": {
   "codemirror_mode": {
    "name": "ipython",
    "version": 3
   },
   "file_extension": ".py",
   "mimetype": "text/x-python",
   "name": "python",
   "nbconvert_exporter": "python",
   "pygments_lexer": "ipython3",
   "version": "3.8.3"
  }
 },
 "nbformat": 4,
 "nbformat_minor": 4
}
